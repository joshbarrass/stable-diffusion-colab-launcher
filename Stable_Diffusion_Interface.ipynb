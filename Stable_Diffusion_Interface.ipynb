{
  "nbformat": 4,
  "nbformat_minor": 0,
  "metadata": {
    "colab": {
      "provenance": [],
      "authorship_tag": "ABX9TyOUvHkszWZFnXzCkVbZeOfm",
      "include_colab_link": true
    },
    "kernelspec": {
      "name": "python3",
      "display_name": "Python 3"
    },
    "language_info": {
      "name": "python"
    },
    "accelerator": "GPU",
    "gpuClass": "standard"
  },
  "cells": [
    {
      "cell_type": "markdown",
      "metadata": {
        "id": "view-in-github",
        "colab_type": "text"
      },
      "source": [
        "<a href=\"https://colab.research.google.com/github/joshbarrass/stable-diffusion-colab-launcher/blob/master/Stable_Diffusion_Interface.ipynb\" target=\"_parent\"><img src=\"https://colab.research.google.com/assets/colab-badge.svg\" alt=\"Open In Colab\"/></a>"
      ]
    },
    {
      "cell_type": "code",
      "execution_count": null,
      "metadata": {
        "id": "b-9tw86PAkId"
      },
      "outputs": [],
      "source": [
        "# download the web UI...\n",
        "%cd /content/\n",
        "!git clone https://github.com/AUTOMATIC1111/stable-diffusion-webui.git\n",
        "%cd /content/stable-diffusion-webui\n",
        "# ...checkout current latest commit at time of writing (2023/02/28) to keep repo stable...\n",
        "!git checkout 0cc0ee1\n",
        "\n",
        "!pip install huggingface_hub\n",
        "from huggingface_hub import hf_hub_url as hf_url\n",
        "\n",
        "# helper classes for downloads\n",
        "# download helper classes can implement any __init__ interface to accept\n",
        "# any necessary args, but must implement a get_url(self) which return a\n",
        "# download URL. The URL returned by this function is passed to curl to\n",
        "# download the requested model.\n",
        "class HFDownload:\n",
        "  def __init__(self, repo_id, filename, subfolder=None, repo_type=None, revision=None):\n",
        "    self.repo_id = repo_id\n",
        "    self.filename = filename\n",
        "    self.subfolder = subfolder\n",
        "    self.repo_type = repo_type\n",
        "    self.revision = revision\n",
        "  \n",
        "  def get_url(self):\n",
        "    return hf_url(repo_id=self.repo_id,\n",
        "                  filename=self.filename,\n",
        "                  subfolder=self.subfolder,\n",
        "                  repo_type=self.repo_type,\n",
        "                  revision=self.revision)\n",
        "\n",
        "class CurlDownload:\n",
        "  def __init__(self, url):\n",
        "    self.url = url\n",
        "  \n",
        "  def get_url(self):\n",
        "    return self.url\n",
        "\n",
        "# define model download options\n",
        "AVAILABLE_MODELS = {\n",
        "    \"AbyssOrangeMix2 SFW\": HFDownload(\"WarriorMama777/OrangeMixs\",\n",
        "                                      \"AbyssOrangeMix2_sfw.safetensors\",\n",
        "                                      subfolder=\"Models/AbyssOrangeMix2\"),\n",
        "    \"Ally's Mix\": CurlDownload(\"https://civitai.com/api/download/models/1259\"),\n",
        "    \"UnstableInkDreamV6\": HFDownload(\"Oosayam/UnstableSamInkDream\",\n",
        "                                     \"UnstableinkdreamV6.safetensors\"),\n",
        "}\n",
        "\n",
        "# TODO: can this be populated automatically?\n",
        "CHOSEN_MODEL = \"AbyssOrangeMix2 SFW\" #@param [\"AbyssOrangeMix2 SFW\", \"Ally's Mix\", \"UnstableInkDreamV6\"]\n",
        "\n",
        "# download the model\n",
        "DOWNLOAD_URL = AVAILABLE_MODELS[CHOSEN_MODEL].get_url()\n",
        "%cd models/Stable-diffusion\n",
        "!curl -LO --remote-name --remote-header-name \"$DOWNLOAD_URL\"\n",
        "\n",
        "# start web ui\n",
        "%cd /content/stable-diffusion-webui\n",
        "!python launch.py --share"
      ]
    }
  ]
}