{
  "nbformat": 4,
  "nbformat_minor": 0,
  "metadata": {
    "colab": {
      "provenance": [],
      "authorship_tag": "ABX9TyObUXGn+jDJToNoXptSauBV",
      "include_colab_link": true
    },
    "kernelspec": {
      "name": "python3",
      "display_name": "Python 3"
    },
    "language_info": {
      "name": "python"
    }
  },
  "cells": [
    {
      "cell_type": "markdown",
      "metadata": {
        "id": "view-in-github",
        "colab_type": "text"
      },
      "source": [
        "<a href=\"https://colab.research.google.com/github/joshbarrass/stable-diffusion-colab-launcher/blob/master/Stable_Diffusion_Interface.ipynb\" target=\"_parent\"><img src=\"https://colab.research.google.com/assets/colab-badge.svg\" alt=\"Open In Colab\"/></a>"
      ]
    },
    {
      "cell_type": "code",
      "execution_count": null,
      "metadata": {
        "id": "b-9tw86PAkId"
      },
      "outputs": [],
      "source": [
        "# download the web UI...\n",
        "!git clone https://github.com/AUTOMATIC1111/stable-diffusion-webui.git\n",
        "%cd stable-diffusion-webui\n",
        "# checkout current latest commit at time of writing (2023/02/28) to keep repo stable\n",
        "!git checkout 0cc0ee1\n",
        "\n",
        "# download a model to the right location\n",
        "from huggingface_hub import hf_hub_url as hf_url\n",
        "\n",
        "# helper classes for downloads\n",
        "class HFDownload:\n",
        "  def __init__(self, repo_id, filename, subfolder=None, repo_type=None, revision=None):\n",
        "    self.repo_id = repo_id\n",
        "    self.filename = filename\n",
        "    self.subfolder = subfolder\n",
        "    self.repo_type = repo_type\n",
        "    self.revision = revision\n",
        "  \n",
        "  def get_url(self):\n",
        "    return hf_url(repo_id=self.repo_id,\n",
        "                  filename=self.filename,\n",
        "                  subfolder=self.subfolder,\n",
        "                  repo_type=self.repo_type,\n",
        "                  revision=self.revision)\n",
        "\n",
        "class CurlDownload:\n",
        "  def __init__(self, url):\n",
        "    self.url = url\n",
        "  \n",
        "  def get_url(self):\n",
        "    return self.url"
      ]
    }
  ]
}